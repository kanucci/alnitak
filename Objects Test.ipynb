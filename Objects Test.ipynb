{
 "cells": [
  {
   "cell_type": "code",
   "execution_count": 1,
   "metadata": {},
   "outputs": [],
   "source": [
    "import os, os.path\n",
    "import pandas as pd"
   ]
  },
  {
   "cell_type": "code",
   "execution_count": 2,
   "metadata": {},
   "outputs": [
    {
     "name": "stdout",
     "output_type": "stream",
     "text": [
      "2\n"
     ]
    }
   ],
   "source": [
    "#file = 'C:/Users/RESIDENCIA/Documents/Dataset'\n",
    "DIR = 'C:/Users/RESIDENCIA/Documents/Dataset/'\n",
    "\n",
    "print(len([name for name in os.listdir(DIR) if os.path.isfile(os.path.join(DIR, name))]))"
   ]
  },
  {
   "cell_type": "code",
   "execution_count": 3,
   "metadata": {},
   "outputs": [
    {
     "name": "stdout",
     "output_type": "stream",
     "text": [
      "2\n"
     ]
    }
   ],
   "source": [
    "print(len([name for name in os.listdir(DIR) if os.path.isfile(os.path.join(DIR, name)) and name.split(\".\")[1] == \"xlsx\"]))"
   ]
  },
  {
   "cell_type": "code",
   "execution_count": 4,
   "metadata": {},
   "outputs": [
    {
     "name": "stdout",
     "output_type": "stream",
     "text": [
      "['C:/Users/RESIDENCIA/Documents/Dataset/TOTAL_LIFE 28_08_2019.xlsx', 'C:/Users/RESIDENCIA/Documents/Dataset/TOTAL_LIFE_30_08_2019.xlsx']\n"
     ]
    }
   ],
   "source": [
    "print([DIR + name for name in os.listdir(DIR) if os.path.isfile(os.path.join(DIR, name)) and name.split(\".\")[1] == \"xlsx\"])"
   ]
  },
  {
   "cell_type": "code",
   "execution_count": 5,
   "metadata": {},
   "outputs": [
    {
     "name": "stdout",
     "output_type": "stream",
     "text": [
      "nan\n"
     ]
    }
   ],
   "source": [
    "lst = [name for name in os.listdir(DIR) if os.path.isfile(os.path.join(DIR, name)) and name.split(\".\")[1] == \"xlsx\"]\n",
    "\n",
    "plans = []\n",
    "\n",
    "for item in lst:\n",
    "    xl = pd.ExcelFile(DIR + item)\n",
    "    plan_list = xl.sheet_names\n",
    "    \n",
    "    for plan in plan_list:\n",
    "        df = xl.parse(plan)\n",
    "        #print(df[['NOME BENEFICIARIO','MATRICULA']])\n",
    "        #print(df.iloc[0,3])\n",
    "        #plans += xl.sheet_names\n",
    "        if df.iloc[0,3] == '85649554':\n",
    "            df.iloc[0,6] == 'Caio'\n",
    "\n",
    "print(df.iloc[0,6])"
   ]
  },
  {
   "cell_type": "code",
   "execution_count": 6,
   "metadata": {},
   "outputs": [],
   "source": [
    "#print(df.iloc[0,0])\n",
    "#print(df.head(0))\n",
    "#print(df['MATRICULA'])"
   ]
  },
  {
   "cell_type": "code",
   "execution_count": 7,
   "metadata": {},
   "outputs": [
    {
     "name": "stdout",
     "output_type": "stream",
     "text": [
      "Yes G6\n"
     ]
    }
   ],
   "source": [
    "from openpyxl import load_workbook\n",
    "\n",
    "for item in lst:\n",
    "    wb = load_workbook(DIR + item)\n",
    "    sheet_list = wb.sheetnames\n",
    "    #print(sheet_list)\n",
    "    for sheet_name in sheet_list:\n",
    "        oSheet = wb[sheet_name]\n",
    "        for rSheet in oSheet:\n",
    "            #print(rSheet[3].value)\n",
    "            if rSheet[3].value == int('87770385'):\n",
    "                \n",
    "                print('Yes', rSheet[6].coordinate)                \n",
    "                oSheet[rSheet[6].coordinate] ='Found Here'\n",
    "                #print(oSheet[rSheet[6].coordinate].value)\n",
    "                wb.save(DIR + item)\n",
    "                wb.close()\n",
    "                #rSheet[6].value == 'Found'\n",
    "                \n",
    "\n",
    "    \n",
    "#print(rSheet[6])"
   ]
  },
  {
   "cell_type": "code",
   "execution_count": 8,
   "metadata": {},
   "outputs": [
    {
     "name": "stdout",
     "output_type": "stream",
     "text": [
      "03\n"
     ]
    }
   ],
   "source": [
    "st = '184133678030210'\n",
    "print(st[9:11])"
   ]
  },
  {
   "cell_type": "code",
   "execution_count": 9,
   "metadata": {},
   "outputs": [],
   "source": [
    "tb_aso = []\n",
    "tb_aso.append((1,2))\n",
    "tb_aso.append((4,5))"
   ]
  },
  {
   "cell_type": "code",
   "execution_count": 10,
   "metadata": {},
   "outputs": [
    {
     "data": {
      "text/plain": [
       "[(1, 2), (4, 5)]"
      ]
     },
     "execution_count": 10,
     "metadata": {},
     "output_type": "execute_result"
    }
   ],
   "source": [
    "tb_aso"
   ]
  },
  {
   "cell_type": "code",
   "execution_count": 11,
   "metadata": {},
   "outputs": [
    {
     "data": {
      "text/plain": [
       "2"
      ]
     },
     "execution_count": 11,
     "metadata": {},
     "output_type": "execute_result"
    }
   ],
   "source": [
    "tb_aso[0][1]"
   ]
  },
  {
   "cell_type": "code",
   "execution_count": 12,
   "metadata": {},
   "outputs": [],
   "source": [
    "tb_aso.append((89265351, 'Aso ok'))"
   ]
  },
  {
   "cell_type": "code",
   "execution_count": 13,
   "metadata": {},
   "outputs": [
    {
     "data": {
      "text/plain": [
       "[]"
      ]
     },
     "execution_count": 13,
     "metadata": {},
     "output_type": "execute_result"
    }
   ],
   "source": [
    "tb_aso = []\n",
    "tb_aso"
   ]
  },
  {
   "cell_type": "code",
   "execution_count": 17,
   "metadata": {},
   "outputs": [],
   "source": [
    "t_1 = [['a',1],['c',2],['b',3],['d',0]]\n",
    "#t_1 = ['a']\n",
    "t_2 = [1,3,5,7]"
   ]
  },
  {
   "cell_type": "code",
   "execution_count": 18,
   "metadata": {},
   "outputs": [
    {
     "name": "stdout",
     "output_type": "stream",
     "text": [
      "[['a', 1], ['c', 2], ['b', 3], ['d', 0]]\n",
      "[1, 3, 5, 7]\n"
     ]
    }
   ],
   "source": [
    "print(t_1)\n",
    "print(t_2)"
   ]
  },
  {
   "cell_type": "code",
   "execution_count": 30,
   "metadata": {},
   "outputs": [
    {
     "data": {
      "text/plain": [
       "[['a', 1, 'ok'], ['c', 2], ['b', 3], ['d', 0]]"
      ]
     },
     "execution_count": 30,
     "metadata": {},
     "output_type": "execute_result"
    }
   ],
   "source": [
    "t_1[0].append('ok')\n",
    "t_1"
   ]
  },
  {
   "cell_type": "code",
   "execution_count": null,
   "metadata": {},
   "outputs": [],
   "source": []
  }
 ],
 "metadata": {
  "kernelspec": {
   "display_name": "Python 3",
   "language": "python",
   "name": "python3"
  },
  "language_info": {
   "codemirror_mode": {
    "name": "ipython",
    "version": 3
   },
   "file_extension": ".py",
   "mimetype": "text/x-python",
   "name": "python",
   "nbconvert_exporter": "python",
   "pygments_lexer": "ipython3",
   "version": "3.7.3"
  }
 },
 "nbformat": 4,
 "nbformat_minor": 2
}
